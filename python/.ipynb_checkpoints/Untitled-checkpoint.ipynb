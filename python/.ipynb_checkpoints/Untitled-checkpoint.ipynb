{
 "cells": [
  {
   "cell_type": "code",
   "execution_count": 26,
   "metadata": {},
   "outputs": [
    {
     "name": "stdout",
     "output_type": "stream",
     "text": [
      "30.14,32.82,29.58,29.36,32.56,32.82\n",
      "4597529480\n",
      "old 4597529480\n",
      "new ['30.14', '32.82', '29.58', '29.36', '32.56', '32.82']\n",
      "new array 30.14,32.82,29.58,29.36,32.56,32.82\n",
      "price set {'5', '.', '4', '8', '1', '9', '0', '6', '2', ',', '3'}\n",
      "date_array = ['20170101', '20170102', '20170103', '20170104', '20170105', '20170106', '20170107']\n",
      "data_array2=['20170108', '20170109', '20170110', '20170111', '20170112', '20170113', '20170114']\n"
     ]
    }
   ],
   "source": [
    "\n",
    "price_str = '30.14,32.82,29.58,29.36,32.56,32.82'\n",
    "print(price_str)\n",
    "print(id(price_str))\n",
    "print('old {}'.format(id(price_str)))\n",
    "price_array = price_str.split(',')\n",
    "print('new {}'.format(price_array))\n",
    "price_array.append('99.9')\n",
    "print('new array {}'.format(price_str))\n",
    "price_set = set(price_str)\n",
    "print('price set {}'.format(price_set))\n",
    "date_array = []\n",
    "data_base = 20170101\n",
    "for _ in range(0,len(price_array)):\n",
    "    date_array.append(str(data_base))\n",
    "    data_base += 1\n",
    "print('date_array = {}'.format(date_array))\n",
    "data_array2 =[str(data_base+ind) for ind,_ in enumerate(price_array)]\n",
    "print('data_array2={}'.format(data_array2))\n",
    "stock_tuple_list = [(date,price) for data,price in zip(date_array,price_array)]"
   ]
  },
  {
   "cell_type": "code",
   "execution_count": 2,
   "metadata": {},
   "outputs": [
    {
     "ename": "SyntaxError",
     "evalue": "unexpected EOF while parsing (<ipython-input-2-3d254729df99>, line 8)",
     "output_type": "error",
     "traceback": [
      "\u001b[0;36m  File \u001b[0;32m\"<ipython-input-2-3d254729df99>\"\u001b[0;36m, line \u001b[0;32m8\u001b[0m\n\u001b[0;31m    \u001b[0m\n\u001b[0m    ^\u001b[0m\n\u001b[0;31mSyntaxError\u001b[0m\u001b[0;31m:\u001b[0m unexpected EOF while parsing\n"
     ]
    }
   ],
   "source": [
    "from collections import namedtuple\n",
    "from collections import OrderedDict\n",
    "class StockTradeDays(object):\n",
    "    def __init__(self, price_array, start_date, date_array=None):\n",
    "        self.__price_array = price_array\n",
    "        self.__date = start_date\n",
    "    def __init_change(self):\n",
    "        price_float_array = [float(price_str) for price_str in self._pric]\n",
    "        "
   ]
  },
  {
   "cell_type": "code",
   "execution_count": null,
   "metadata": {},
   "outputs": [],
   "source": []
  }
 ],
 "metadata": {
  "kernelspec": {
   "display_name": "Python 3",
   "language": "python",
   "name": "python3"
  },
  "language_info": {
   "codemirror_mode": {
    "name": "ipython",
    "version": 3
   },
   "file_extension": ".py",
   "mimetype": "text/x-python",
   "name": "python",
   "nbconvert_exporter": "python",
   "pygments_lexer": "ipython3",
   "version": "3.6.5"
  }
 },
 "nbformat": 4,
 "nbformat_minor": 2
}
