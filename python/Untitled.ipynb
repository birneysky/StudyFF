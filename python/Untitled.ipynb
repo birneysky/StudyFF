{
 "cells": [
  {
   "cell_type": "code",
   "execution_count": 5,
   "metadata": {},
   "outputs": [
    {
     "name": "stdout",
     "output_type": "stream",
     "text": [
      "30.14,32.82,29.58,29.36,32.56,32.82\n",
      "4600118944\n",
      "old 4600118944\n",
      "new ['30.14', '32.82', '29.58', '29.36', '32.56', '32.82']\n",
      "new array 30.14,32.82,29.58,29.36,32.56,32.82\n",
      "price set {'4', '6', '1', '9', '3', ',', '5', '0', '.', '8', '2'}\n",
      "date_array = ['20170101', '20170102', '20170103', '20170104', '20170105', '20170106', '20170107']\n",
      "data_array2=['20170108', '20170109', '20170110', '20170111', '20170112', '20170113', '20170114']\n",
      "tuple_list = [('20170101', '30.14'), ('20170102', '32.82'), ('20170103', '29.58'), ('20170104', '29.36'), ('20170105', '32.56'), ('20170106', '32.82'), ('20170107', '99.9')]\n"
     ]
    }
   ],
   "source": [
    "\n",
    "price_str = '30.14,32.82,29.58,29.36,32.56,32.82'\n",
    "print(price_str)\n",
    "print(id(price_str))\n",
    "print('old {}'.format(id(price_str)))\n",
    "price_array = price_str.split(',')\n",
    "print('new {}'.format(price_array))\n",
    "price_array.append('99.9')\n",
    "print('new array {}'.format(price_str))\n",
    "price_set = set(price_str)\n",
    "print('price set {}'.format(price_set))\n",
    "date_array = []\n",
    "data_base = 20170101\n",
    "for _ in range(0,len(price_array)):\n",
    "    date_array.append(str(data_base))\n",
    "    data_base += 1\n",
    "print('date_array = {}'.format(date_array))\n",
    "data_array2 =[str(data_base+ind) for ind,_ in enumerate(price_array)]\n",
    "print('data_array2={}'.format(data_array2))\n",
    "stock_tuple_list = [(date,price) for date,price in zip(date_array,price_array)]\n",
    "print('tuple_list = {}'.format(stock_tuple_list))"
   ]
  },
  {
   "cell_type": "code",
   "execution_count": null,
   "metadata": {},
   "outputs": [],
   "source": []
  },
  {
   "cell_type": "code",
   "execution_count": 30,
   "metadata": {},
   "outputs": [
    {
     "ename": "SyntaxError",
     "evalue": "invalid syntax (<ipython-input-30-9c6531d0aea9>, line 28)",
     "output_type": "error",
     "traceback": [
      "\u001b[0;36m  File \u001b[0;32m\"<ipython-input-30-9c6531d0aea9>\"\u001b[0;36m, line \u001b[0;32m28\u001b[0m\n\u001b[0;31m    want_days=filter(filter_func,self.stock_dict.values()))\u001b[0m\n\u001b[0m                                                          ^\u001b[0m\n\u001b[0;31mSyntaxError\u001b[0m\u001b[0;31m:\u001b[0m invalid syntax\n"
     ]
    }
   ],
   "source": [
    "from collections import namedtuple\n",
    "from collections import OrderedDict\n",
    "class StockTradeDays(object):\n",
    "    def __init__(self, price_array, start_date, date_array=None):\n",
    "        self.__price_array = price_array\n",
    "        self.__date_array = self._init_days(start_date, data_array)\n",
    "        self.__change_array = self.__init_change()\n",
    "        self.stock_dict = self._init_stock_dict()\n",
    "    def __init_change(self):\n",
    "        price_float_array = [float(price_str) for price_str in self.__price_array]\n",
    "        pp_array = [(price1,price2) for price1, price2 in zip(price_float_array[:-1], price_float_array[1:])]\n",
    "        change_array = map(lambda pp: reduce(lambda a, b: round((b-a)/a,3),pp),pp_array)\n",
    "        change_array.insert(0,0)\n",
    "        return change_array\n",
    "    def _init_days(self, start_date, date_array):\n",
    "            if date_array is None:\n",
    "                date_array = [str(start_date + ind) for ind, _ in enumerate(self.__price_array)]\n",
    "            else:\n",
    "                data_array = [str(date) for date in data_array]\n",
    "            return data_array\n",
    "    def _init_stock_dict(self):\n",
    "        stock_namedtuple = namedtuple('stock',('date',' price', 'change'))\n",
    "        stock_dict = OrderedDict((date, stock_namedtuple(date,price,change)) \n",
    "                                 for date, price, change in zip(self.__date_array, self.__price_array, self.__change_array))\n",
    "        return stock_dict\n",
    "    def filter_stock(self, want_up=True, want_calc_sum=False) :\n",
    "        filter_func = (lambda day: day.change > 0) if want_up else (lambda day: day.change < 0)\n",
    "        want_days=filter(filter_func,self.stock_dict.values()))\n",
    "        if not want_calc_sum:\n",
    "            return want_days\n",
    "        change_sum = 0.0\n",
    "        for day in want_days:\n",
    "            change_sum += day.change\n",
    "        return change_sum\n",
    "    def __str__(self):\n",
    "        return str(self.stock_dict)\n",
    "    def __iter__(self):\n",
    "        for key in self.stock_dict:\n",
    "            yield self.stock_dict[key]\n",
    "    def __getitem__(self,ind):\n",
    "        date_key = self.__date_array[ind]\n",
    "        return self.stock_dict(date_key)\n",
    "    def __len__(self):\n",
    "        return len(self.stock_dict)\n",
    "        "
   ]
  },
  {
   "cell_type": "code",
   "execution_count": null,
   "metadata": {},
   "outputs": [],
   "source": []
  }
 ],
 "metadata": {
  "kernelspec": {
   "display_name": "Python 3",
   "language": "python",
   "name": "python3"
  },
  "language_info": {
   "codemirror_mode": {
    "name": "ipython",
    "version": 3
   },
   "file_extension": ".py",
   "mimetype": "text/x-python",
   "name": "python",
   "nbconvert_exporter": "python",
   "pygments_lexer": "ipython3",
   "version": "3.6.5"
  }
 },
 "nbformat": 4,
 "nbformat_minor": 2
}
